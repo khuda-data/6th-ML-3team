{
 "cells": [
  {
   "cell_type": "code",
   "execution_count": 9,
   "metadata": {},
   "outputs": [
    {
     "name": "stderr",
     "output_type": "stream",
     "text": [
      "/opt/anaconda3/lib/python3.11/site-packages/sklearn/base.py:432: UserWarning: X has feature names, but SVC was fitted without feature names\n",
      "  warnings.warn(\n",
      "/opt/anaconda3/lib/python3.11/site-packages/sklearn/base.py:432: UserWarning: X has feature names, but SVC was fitted without feature names\n",
      "  warnings.warn(\n"
     ]
    },
    {
     "name": "stdout",
     "output_type": "stream",
     "text": [
      "훈련 세트 점수: 0.5072951739618407\n",
      "테스트 세트 점수: 0.47085201793721976\n",
      "최적의 하이퍼파라미터: {'C': 10, 'gamma': 0.1, 'kernel': 'rbf'}\n",
      "최고 교차 검증 점수: 0.5386918586403866\n",
      "훈련 세트 점수: 0.5072951739618407\n",
      "테스트 세트 점수: 0.47085201793721976\n"
     ]
    },
    {
     "name": "stderr",
     "output_type": "stream",
     "text": [
      "/opt/anaconda3/lib/python3.11/site-packages/sklearn/base.py:432: UserWarning: X has feature names, but SVC was fitted without feature names\n",
      "  warnings.warn(\n",
      "/opt/anaconda3/lib/python3.11/site-packages/sklearn/base.py:432: UserWarning: X has feature names, but SVC was fitted without feature names\n",
      "  warnings.warn(\n"
     ]
    }
   ],
   "source": [
    "import pandas as pd\n",
    "from sklearn.model_selection import train_test_split\n",
    "from sklearn.svm import SVC\n",
    "from sklearn.metrics import accuracy_score\n",
    "from sklearn.preprocessing import StandardScaler\n",
    "\n",
    "data = pd.read_csv('분석용최최종.csv')\n",
    "data = data.drop(columns=['num', 'enddate', 'end+1','target2','Start Date', 'End Date','#','팀명','경기','투_승','투_패','상대1','경기1','투_승1','투_패1'])\n",
    "\n",
    "X = data.drop(columns=['target'])\n",
    "y = data['target']\n",
    "\n",
    "X_train, X_test, y_train, y_test = train_test_split(X, y, test_size=0.2)\n",
    "\n",
    "scaler = StandardScaler()\n",
    "X_train_scaled = scaler.fit_transform(X_train)\n",
    "X_test_scaled = scaler.transform(X_test)\n",
    "\n",
    "model = SVC(kernel='rbf', C=1, gamma=0.01)\n",
    "model.fit(X_train_scaled, y_train)\n",
    "\n",
    "y_pred = model.predict(X_test_scaled)\n",
    "\n",
    "train_score = model.score(X_train, y_train)\n",
    "print(f\"훈련 세트 점수: {train_score}\")\n",
    "\n",
    "test_score = model.score(X_test, y_test)\n",
    "print(f\"테스트 세트 점수: {test_score}\")\n",
    "\n",
    "# 최적의 하이퍼파라미터\n",
    "from sklearn.model_selection import GridSearchCV\n",
    "\n",
    "param_grid = {\n",
    "    'C': [0.1, 1, 10, 100],\n",
    "    'gamma': [ 0.0001,0.001, 0.01, 0.1, 1],\n",
    "    'kernel': ['rbf']\n",
    "}\n",
    "\n",
    "grid_search = GridSearchCV(SVC(random_state=42), param_grid, cv=5, scoring='accuracy', refit=True)\n",
    "grid_search.fit(X_train_scaled, y_train)\n",
    "\n",
    "print(f\"최적의 하이퍼파라미터: {grid_search.best_params_}\")\n",
    "print(f\"최고 교차 검증 점수: {grid_search.best_score_}\")\n",
    "\n",
    "best_model = grid_search.best_estimator_\n",
    "best_model.fit(X_train_scaled, y_train)\n",
    "\n",
    "train_score = best_model.score(X_train, y_train)\n",
    "print(f\"훈련 세트 점수: {train_score}\")\n",
    "\n",
    "test_score =best_model.score(X_test, y_test)\n",
    "print(f\"테스트 세트 점수: {test_score}\")\n",
    "\n",
    "\n"
   ]
  },
  {
   "cell_type": "code",
   "execution_count": 12,
   "metadata": {},
   "outputs": [
    {
     "name": "stdout",
     "output_type": "stream",
     "text": [
      "상위 10개 중요한 피처:\n",
      "타_홈런\n",
      "타_삼진\n",
      "타_BABIP\n",
      "타_타석1\n",
      "타_단타1\n",
      "타_홈런1\n",
      "타_삼진1\n",
      "타_BABIP1\n",
      "차_타율\n",
      "차_장타율\n",
      "훈련 세트 점수: 0.5520\n",
      "테스트 세트 점수: 0.5313\n"
     ]
    }
   ],
   "source": [
    "import pandas as pd\n",
    "from sklearn.model_selection import train_test_split\n",
    "from sklearn.svm import SVC\n",
    "from sklearn.feature_selection import RFE\n",
    "from sklearn.preprocessing import StandardScaler\n",
    "from sklearn.metrics import accuracy_score\n",
    "\n",
    "\n",
    "data = pd.read_csv('분석용최최종.csv')\n",
    "data = data.drop(columns=['num', 'enddate', 'end+1','target2','Start Date', 'End Date','#','팀명','경기','투_승','투_패','상대1','경기1','투_승1','투_패1'])\n",
    "\n",
    "X = data.drop(columns=['target'])\n",
    "y = data['target']\n",
    "\n",
    "\n",
    "X_train, X_test, y_train, y_test = train_test_split(X, y, test_size=0.3, random_state=42)\n",
    "\n",
    "scaler = StandardScaler()\n",
    "X_train_scaled = scaler.fit_transform(X_train)\n",
    "X_test_scaled = scaler.transform(X_test)\n",
    "\n",
    "\n",
    "svc = SVC(kernel='linear', C=1, gamma='scale')  \n",
    "rfe = RFE(estimator=svc, n_features_to_select=10, step=1)\n",
    "rfe.fit(X_train_scaled, y_train)\n",
    "\n",
    "\n",
    "selected_features = X.columns[rfe.support_]\n",
    "print(\"상위 10개 중요한 피처:\")\n",
    "for feature in selected_features:\n",
    "    print(feature)\n",
    "\n",
    "X_selected_train = X_train_scaled[:, rfe.support_]\n",
    "X_selected_test = X_test_scaled[:, rfe.support_]\n",
    "\n",
    "\n",
    "model = SVC(kernel='linear', C=1, gamma='scale')  \n",
    "model.fit(X_selected_train, y_train)\n",
    "\n",
    "y_pred_train = model.predict(X_selected_train)\n",
    "y_pred_test = model.predict(X_selected_test)\n",
    "\n",
    "train_score = accuracy_score(y_train, y_pred_train)\n",
    "print(f\"훈련 세트 점수: {train_score:.4f}\")\n",
    "\n",
    "test_score = accuracy_score(y_test, y_pred_test)\n",
    "print(f\"테스트 세트 점수: {test_score:.4f}\")\n"
   ]
  },
  {
   "cell_type": "code",
   "execution_count": 12,
   "metadata": {},
   "outputs": [
    {
     "name": "stdout",
     "output_type": "stream",
     "text": [
      "훈련 세트 점수: 0.510662177328844\n",
      "테스트 세트 점수: 0.45739910313901344\n"
     ]
    },
    {
     "name": "stderr",
     "output_type": "stream",
     "text": [
      "/opt/anaconda3/lib/python3.11/site-packages/sklearn/base.py:432: UserWarning: X has feature names, but SVC was fitted without feature names\n",
      "  warnings.warn(\n",
      "/opt/anaconda3/lib/python3.11/site-packages/sklearn/base.py:432: UserWarning: X has feature names, but SVC was fitted without feature names\n",
      "  warnings.warn(\n"
     ]
    }
   ],
   "source": [
    "# 상관관계 높은 거 줄이기 \n",
    "\n",
    "import pandas as pd\n",
    "from sklearn.model_selection import train_test_split\n",
    "from sklearn.svm import SVC\n",
    "from sklearn.metrics import accuracy_score\n",
    "from sklearn.preprocessing import StandardScaler\n",
    "import pandas as pd\n",
    "import numpy as np\n",
    "\n",
    "data = pd.read_csv('분석용최최종.csv')\n",
    "data = data.drop(columns=['num', 'enddate', 'end+1','target2','Start Date', 'End Date','#','팀명','경기','투_승','투_패','상대1','경기1','투_승1','투_패1'])\n",
    "\n",
    "corr_matrix = data.corr()\n",
    "threshold = 0.9  \n",
    "upper = corr_matrix.where(np.triu(np.ones(corr_matrix.shape), k=1).astype(bool)) \n",
    "to_drop = [column for column in upper.columns if any(upper[column].abs() > threshold)]\n",
    "data_reduced = data.drop(columns=to_drop)\n",
    "\n",
    "\n",
    "X = data_reduced.drop(columns=['target'])\n",
    "y = data_reduced['target']\n",
    "\n",
    "X_train, X_test, y_train, y_test = train_test_split(X, y, test_size=0.2)\n",
    "\n",
    "scaler = StandardScaler()\n",
    "X_train_scaled = scaler.fit_transform(X_train)\n",
    "X_test_scaled = scaler.transform(X_test)\n",
    "\n",
    "model = SVC(kernel='rbf', C=1, gamma=0.01)\n",
    "model.fit(X_train_scaled, y_train)\n",
    "\n",
    "y_pred = model.predict(X_test_scaled)\n",
    "\n",
    "train_score = model.score(X_train, y_train)\n",
    "print(f\"훈련 세트 점수: {train_score}\")\n",
    "\n",
    "test_score = model.score(X_test, y_test)\n",
    "print(f\"테스트 세트 점수: {test_score}\")\n",
    "\n",
    "\n"
   ]
  },
  {
   "cell_type": "code",
   "execution_count": 11,
   "metadata": {},
   "outputs": [
    {
     "name": "stdout",
     "output_type": "stream",
     "text": [
      "훈련 세트 점수: 0.5016835016835017\n",
      "테스트 세트 점수: 0.49327354260089684\n"
     ]
    },
    {
     "name": "stderr",
     "output_type": "stream",
     "text": [
      "/opt/anaconda3/lib/python3.11/site-packages/sklearn/base.py:432: UserWarning: X has feature names, but SVC was fitted without feature names\n",
      "  warnings.warn(\n",
      "/opt/anaconda3/lib/python3.11/site-packages/sklearn/base.py:432: UserWarning: X has feature names, but SVC was fitted without feature names\n",
      "  warnings.warn(\n"
     ]
    }
   ],
   "source": [
    "# 홈어웨이 추가 \n",
    "import pandas as pd\n",
    "from sklearn.model_selection import train_test_split\n",
    "from sklearn.svm import SVC\n",
    "from sklearn.metrics import accuracy_score\n",
    "from sklearn.preprocessing import StandardScaler\n",
    "\n",
    "data = pd.read_csv('홈어웨이 데이터 추가.csv')\n",
    "\n",
    "X = data[['투_ERA', '투_세', '타_OPS', '투_이닝당타자','타_타점','홈 경기수']]\n",
    "y = data['target']\n",
    "\n",
    "X_train, X_test, y_train, y_test = train_test_split(X, y, test_size=0.2)\n",
    "\n",
    "scaler = StandardScaler()\n",
    "X_train_scaled = scaler.fit_transform(X_train)\n",
    "X_test_scaled = scaler.transform(X_test)\n",
    "\n",
    "model = SVC(kernel='rbf', C=10, gamma=0.1)\n",
    "model.fit(X_train_scaled, y_train)\n",
    "\n",
    "y_pred = model.predict(X_test_scaled)\n",
    "\n",
    "train_score = model.score(X_train, y_train)\n",
    "print(f\"훈련 세트 점수: {train_score}\")\n",
    "\n",
    "test_score = model.score(X_test, y_test)\n",
    "print(f\"테스트 세트 점수: {test_score}\")\n"
   ]
  }
 ],
 "metadata": {
  "kernelspec": {
   "display_name": "base",
   "language": "python",
   "name": "python3"
  },
  "language_info": {
   "codemirror_mode": {
    "name": "ipython",
    "version": 3
   },
   "file_extension": ".py",
   "mimetype": "text/x-python",
   "name": "python",
   "nbconvert_exporter": "python",
   "pygments_lexer": "ipython3",
   "version": "3.11.7"
  }
 },
 "nbformat": 4,
 "nbformat_minor": 2
}
